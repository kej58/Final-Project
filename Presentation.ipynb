{
 "cells": [
  {
   "cell_type": "markdown",
   "metadata": {},
   "source": [
    "# Best neighborhood in Pittsburgh"
   ]
  },
  {
   "cell_type": "markdown",
   "metadata": {},
   "source": [
    "## Team Square"
   ]
  },
  {
   "cell_type": "markdown",
   "metadata": {},
   "source": [
    "### Introduction\n",
    "\n",
    "Using data from the WPRDC, the three dataset we considered are:\n",
    "\n",
    "* **Crime Rate** (_Police Incident Blotter_)\n",
    "    * The reason we choose the police incident data is because safety is always a primary consideration in choosing a neighborhood and the security of that neighborhood can be seen by the different crime incidents that reported in different neighborhoods.\n",
    "    \n",
    "* **Facilities** (_City of Pittsburgh Facilities_)\n",
    "    * Facilities are also an important consideration in choosing a neighborhood, and if a neighborhood has more facilities then that means the neighborhood has more access to different resources, which will make people’s lives will be more convenient.\n",
    "* "
   ]
  },
  {
   "cell_type": "markdown",
   "metadata": {},
   "source": [
    "### Metric"
   ]
  },
  {
   "cell_type": "code",
   "execution_count": null,
   "metadata": {},
   "outputs": [],
   "source": []
  },
  {
   "cell_type": "markdown",
   "metadata": {},
   "source": [
    "### Conclusion:\n",
    "* **Police Incident Blotter (30 Day)**: In order to find out what is the best neihborhood in Pittsburgh, we need to find out which neighborhood have the least reported crime. So in this dataset I first look for which crime reported the most, then I use the information to find out the top three reported crimes and see in which neighborhood they were repoted and compare it with the information from the previous data(the reported crime). Lastly, I find out which neighborhood have the least reported crimes, which leads me to the following conclusion:\n",
    "    * The **BEST** neighborhood in Pittsburgh: ***Regent Square***, with only *two* incidents reported in the past 30 days."
   ]
  },
  {
   "cell_type": "code",
   "execution_count": null,
   "metadata": {},
   "outputs": [],
   "source": []
  }
 ],
 "metadata": {
  "kernelspec": {
   "display_name": "Python 3",
   "language": "python",
   "name": "python3"
  },
  "language_info": {
   "codemirror_mode": {
    "name": "ipython",
    "version": 3
   },
   "file_extension": ".py",
   "mimetype": "text/x-python",
   "name": "python",
   "nbconvert_exporter": "python",
   "pygments_lexer": "ipython3",
   "version": "3.8.3"
  }
 },
 "nbformat": 4,
 "nbformat_minor": 4
}
